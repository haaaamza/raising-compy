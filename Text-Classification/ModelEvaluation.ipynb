{
  "nbformat": 4,
  "nbformat_minor": 0,
  "metadata": {
    "colab": {
      "name": "ModelEvaluation.ipynb",
      "provenance": [],
      "collapsed_sections": [
        "AKNbsfFzS8Ha",
        "njk5uwPKGUuF",
        "dKBs09bDbIUB",
        "oHCnpv4l31wr",
        "3FhVXMv6pX1N"
      ],
      "toc_visible": true
    },
    "kernelspec": {
      "name": "python3",
      "display_name": "Python 3"
    },
    "accelerator": "GPU"
  },
  "cells": [
    {
      "cell_type": "markdown",
      "metadata": {
        "id": "KkLnt7IZBBI6",
        "colab_type": "text"
      },
      "source": [
        "# Imports and Set-up"
      ]
    },
    {
      "cell_type": "code",
      "metadata": {
        "id": "-v9T8xzI3UUC",
        "colab_type": "code",
        "colab": {}
      },
      "source": [
        "import matplotlib.pyplot as plt\n",
        "import seaborn as sns\n",
        "import numpy as np\n",
        "import pickle\n",
        "\n",
        "from google.colab import files\n",
        "\n",
        "\n",
        "from sklearn.metrics import *\n",
        "from sklearn.pipeline import Pipeline\n",
        "from sklearn.model_selection import GridSearchCV, RandomizedSearchCV\n",
        "from sklearn.datasets import load_iris\n",
        "from sklearn.model_selection import cross_val_score\n",
        "from sklearn.linear_model import LogisticRegression\n",
        "from sklearn.svm import SVC\n",
        "from sklearn.datasets import make_classification\n",
        "from sklearn.ensemble import AdaBoostClassifier\n",
        "from sklearn.ensemble import RandomForestClassifier\n",
        "from sklearn.tree import DecisionTreeClassifier\n",
        "\n",
        "\n"
      ],
      "execution_count": 0,
      "outputs": []
    },
    {
      "cell_type": "code",
      "metadata": {
        "id": "ibPb_2ngIs59",
        "colab_type": "code",
        "outputId": "36d4e111-56d8-43fa-a76b-95275b3fd455",
        "colab": {
          "base_uri": "https://localhost:8080/",
          "height": 122
        }
      },
      "source": [
        "from google.colab import drive\n",
        "drive.mount('/content/drive')"
      ],
      "execution_count": 0,
      "outputs": [
        {
          "output_type": "stream",
          "text": [
            "Go to this URL in a browser: https://accounts.google.com/o/oauth2/auth?client_id=947318989803-6bn6qk8qdgf4n4g3pfee6491hc0brc4i.apps.googleusercontent.com&redirect_uri=urn%3aietf%3awg%3aoauth%3a2.0%3aoob&response_type=code&scope=email%20https%3a%2f%2fwww.googleapis.com%2fauth%2fdocs.test%20https%3a%2f%2fwww.googleapis.com%2fauth%2fdrive%20https%3a%2f%2fwww.googleapis.com%2fauth%2fdrive.photos.readonly%20https%3a%2f%2fwww.googleapis.com%2fauth%2fpeopleapi.readonly\n",
            "\n",
            "Enter your authorization code:\n",
            "··········\n",
            "Mounted at /content/drive\n"
          ],
          "name": "stdout"
        }
      ]
    },
    {
      "cell_type": "code",
      "metadata": {
        "id": "d4KDe2Gp82KA",
        "colab_type": "code",
        "colab": {}
      },
      "source": [
        "# Import PyDrive and associated libraries.\n",
        "# This only needs to be done once per notebook.\n",
        "from pydrive.auth import GoogleAuth\n",
        "from pydrive.drive import GoogleDrive\n",
        "from google.colab import auth\n",
        "from oauth2client.client import GoogleCredentials\n",
        "\n",
        "# Authenticate and create the PyDrive client.\n",
        "# This only needs to be done once per notebook.\n",
        "auth.authenticate_user()\n",
        "gauth = GoogleAuth()\n",
        "gauth.credentials = GoogleCredentials.get_application_default()\n",
        "drive = GoogleDrive(gauth)"
      ],
      "execution_count": 0,
      "outputs": []
    },
    {
      "cell_type": "code",
      "metadata": {
        "id": "dNDGivbd8uY4",
        "colab_type": "code",
        "colab": {}
      },
      "source": [
        "from googleapiclient.discovery import build\n",
        "drive_service = build('drive', 'v3')\n",
        "\n",
        "import io\n",
        "import pickle\n",
        "from googleapiclient.http import MediaIoBaseDownload\n",
        "\n",
        "news_ids = {\n",
        "    'news': '1wB5BmfXPJd7D9woTyuYz_8ETSI8csFI3',\n",
        "    'news_ngrams': '1EX3om0tgqfXrZ1tuT6T4CbSjzTq8blKo',\n",
        "    'news_binary': '1IlTt-_EQFmxR_zhByHtJu0JUYygCvnHh',\n",
        "    'news_binary_ngrams': '1XmTGxfWCfEk4SvaXHO2QnfrFc29JI_ik'\n",
        "}\n",
        "movie_ids = {\n",
        "    'movie': '1IQQsIjbDt8DIZcc5HEC5G0OepKvcSBUU',\n",
        "    'movie_ngrams': '19Ak_ipptGS9nGV4N1eiYNwoHLHuBhIg1',\n",
        "    'movie_binary': '1mpktzleFgMS8OkrbsvhRR7Yn8aCIvPg7',\n",
        "    'movie_binary_ngrams': '1FiyS0yPgrGh4Awn9ncuMpR9U1sArMoza'\n",
        "}\n",
        "\n",
        "news_labels = ['alt.atheism',\n",
        " 'comp.graphics',\n",
        " 'comp.os.ms-windows.misc',\n",
        " 'comp.sys.ibm.pc.hardware',\n",
        " 'comp.sys.mac.hardware',\n",
        " 'comp.windows.x',\n",
        " 'misc.forsale',\n",
        " 'rec.autos',\n",
        " 'rec.motorcycles',\n",
        " 'rec.sport.baseball',\n",
        " 'rec.sport.hockey',\n",
        " 'sci.crypt',\n",
        " 'sci.electronics',\n",
        " 'sci.med',\n",
        " 'sci.space',\n",
        " 'soc.religion.christian',\n",
        " 'talk.politics.guns',\n",
        " 'talk.politics.mideast',\n",
        " 'talk.politics.misc',\n",
        " 'talk.religion.misc']\n",
        "\n",
        "movie_labels = ['negative', 'positive']\n",
        "\n",
        "\n",
        "def load_file_by_id(file_id):\n",
        "  request = drive_service.files().get_media(fileId=file_id)\n",
        "  downloaded = io.BytesIO()\n",
        "  downloader = MediaIoBaseDownload(downloaded, request)\n",
        "  done = False\n",
        "  while done is False:\n",
        "      # _ is a placeholder for a progress object that we ignore.\n",
        "      # (Our file is small, so we skip reporting progress.)\n",
        "      _, done = downloader.next_chunk()\n",
        "\n",
        "  downloaded.seek(0)\n",
        "  return downloaded\n",
        "\n",
        "def shuffle(X, y):\n",
        "  p = np.random.permutation(X.shape[0])\n",
        "  return X[p], y[p]\n",
        "\n",
        "\n",
        "news = {'news': {}, 'news_ngrams': {}, 'news_binary': {}, 'news_binary_ngrams': {}}\n",
        "movie = {'movie': {}, 'movie_ngrams': {}, 'movie_binary': {}, 'movie_binary_ngrams': {}}\n",
        "\n",
        "for key, file_id in news_ids.items():\n",
        "  X_train, y_train, X_test, y_test = pickle.load(load_file_by_id(file_id))\n",
        "  news[key]['X_train'], news[key]['y_train'] = shuffle(X_train, y_train)\n",
        "  news[key]['X_test'], news[key]['y_test'] = shuffle(X_test, y_test)\n",
        "\n",
        "for key, file_id in movie_ids.items():\n",
        "  X_train, y_train, X_test, y_test = pickle.load(load_file_by_id(file_id))\n",
        "  movie[key]['X_train'], movie[key]['y_train'] = shuffle(X_train, y_train)\n",
        "  movie[key]['X_test'], movie[key]['y_test'] = shuffle(X_test, y_test)\n",
        "\n",
        "\n"
      ],
      "execution_count": 0,
      "outputs": []
    },
    {
      "cell_type": "code",
      "metadata": {
        "id": "Ev6nF1sDnL4X",
        "colab_type": "code",
        "colab": {}
      },
      "source": [
        "def cv_eval_save(name, grid, X_train, y_train, X_test, y_test, y_labels, avg):\n",
        "  \"\"\" Run cross validation with a grid and find the train/val/test results. Saves and downloads pkl file. \"\"\"\n",
        "\n",
        "  grid.fit(X_train, y_train)\n",
        " \n",
        "\n",
        "  train_acc = grid.cv_results_['mean_train_score'][grid.best_index_]\n",
        "  train_std = grid.cv_results_['std_train_score'][grid.best_index_]\n",
        "  val_acc = grid.cv_results_['mean_test_score'][grid.best_index_]\n",
        "  val_std = grid.cv_results_['std_test_score'][grid.best_index_]\n",
        "\n",
        "\n",
        "  train_results = evaluate_model(grid, X_train, y_train, y_labels, avg) # results on whole training set\n",
        "  test_results = evaluate_model(grid, X_test, y_test, y_labels, avg) # results on test set\n",
        "\n",
        "  results = {'grid': grid, 'val_acc': val_acc, 'val_std': val_std, 'train_acc': train_acc,\n",
        "            'train_std': train_std, 'train_results': train_results, 'test_results': test_results}\n",
        "\n",
        "\n",
        "  with open(name, 'wb') as f:\n",
        "    pickle.dump(results, f) \n",
        "\n",
        "  return results\n",
        "\n",
        "\n",
        "def evaluate_model(model, X, y, y_labels, avg):\n",
        "  \"\"\" get accuracy, F1 score, and generate a confusion matrix plot \"\"\"\n",
        "  results = {\"acc\": None, \"f1\": None, \"conf_matrix\": None, \"conf_matrix_plot\": None}\n",
        "  y_pred = model.predict(X)\n",
        "  results['acc'] = accuracy_score(y, y_pred)\n",
        "  results['f1'] = f1_score(y, y_pred, average=avg)\n",
        "  results['conf_matrix'] = confusion_matrix(y, y_pred)\n",
        "  \n",
        "  fig = plt.figure(figsize=(10, 8))\n",
        "  sns.heatmap(results['conf_matrix'], annot=True, cmap=\"Blues\", fmt=\"d\")\n",
        "  plt.xticks(np.arange(results['conf_matrix'].shape[0]) + 0.5, y_labels, rotation=90)\n",
        "  plt.yticks(np.arange(results['conf_matrix'].shape[0]) + 0.5, y_labels, rotation=0)\n",
        "  plt.xlabel(\"Predicted Value\")\n",
        "  plt.ylabel(\"True Value\")\n",
        "\n",
        "  results['conf_matrix_plot'] = fig\n",
        "\n",
        "  return results"
      ],
      "execution_count": 0,
      "outputs": []
    },
    {
      "cell_type": "markdown",
      "metadata": {
        "id": "pVvWR3IOBGNQ",
        "colab_type": "text"
      },
      "source": [
        "# Logistic Regression"
      ]
    },
    {
      "cell_type": "code",
      "metadata": {
        "id": "TVwLPjJjAF2x",
        "colab_type": "code",
        "colab": {}
      },
      "source": [
        "from sklearn.linear_model import LogisticRegression\n",
        "log_rg = LogisticRegression(penalty=\"elasticnet\", solver=\"saga\", max_iter=10000, n_jobs=-1) "
      ],
      "execution_count": 0,
      "outputs": []
    },
    {
      "cell_type": "code",
      "metadata": {
        "id": "ZvC_y7TJAUzZ",
        "colab_type": "code",
        "colab": {}
      },
      "source": [
        "log_rg_params = { #hyperparameters over which to optimize\n",
        "    'C': [0.001, 0.01, 0.1, 1, 10, 100],\n",
        "    'l1_ratio': [0, 0.2, 0.4, 0.6, 0.8, 1]\n",
        "}"
      ],
      "execution_count": 0,
      "outputs": []
    },
    {
      "cell_type": "code",
      "metadata": {
        "id": "Ncb8PVt-Aa7W",
        "colab_type": "code",
        "colab": {}
      },
      "source": [
        "log_rg_grid = GridSearchCV(estimator=log_rg, param_grid=log_rg_params, n_jobs=-1,\n",
        "                                cv=5, refit=True, verbose=2, return_train_score = True)"
      ],
      "execution_count": 0,
      "outputs": []
    },
    {
      "cell_type": "markdown",
      "metadata": {
        "id": "AKNbsfFzS8Ha",
        "colab_type": "text"
      },
      "source": [
        "## Movie Reviews"
      ]
    },
    {
      "cell_type": "code",
      "metadata": {
        "id": "reC7nxvTAzwb",
        "colab_type": "code",
        "colab": {}
      },
      "source": [
        "movie_log_rg_results = cv_eval_save(\"movie_results_log_rg.pkl\", log_rg_grid, movie['movie']['X_train'], movie['movie']['y_train'],\n",
        "             movie['movie']['X_test'], movie['movie']['y_test'], movie_labels, 'binary')"
      ],
      "execution_count": 0,
      "outputs": []
    },
    {
      "cell_type": "code",
      "metadata": {
        "id": "eAoU6NCJe3m2",
        "colab_type": "code",
        "colab": {}
      },
      "source": [
        "files.download(\"movie_results_log_rg.pkl\") "
      ],
      "execution_count": 0,
      "outputs": []
    },
    {
      "cell_type": "code",
      "metadata": {
        "id": "yRecSEHajdrC",
        "colab_type": "code",
        "colab": {}
      },
      "source": [
        "movie_log_rg_results"
      ],
      "execution_count": 0,
      "outputs": []
    },
    {
      "cell_type": "code",
      "metadata": {
        "id": "xNTv7cexfA1s",
        "colab_type": "code",
        "colab": {}
      },
      "source": [
        "movie_binary_log_rg_results = cv_eval_save(\"movie_binary_results_log_rg.pkl\", log_rg_grid, movie['movie_binary']['X_train'], movie['movie_binary']['y_train'],\n",
        "             movie['movie_binary']['X_test'], movie['movie_binary']['y_test'], movie_labels, 'binary')"
      ],
      "execution_count": 0,
      "outputs": []
    },
    {
      "cell_type": "code",
      "metadata": {
        "id": "NRWyRFC5huyH",
        "colab_type": "code",
        "colab": {}
      },
      "source": [
        "files.download(\"movie_binary_results_log_rg.pkl\")"
      ],
      "execution_count": 0,
      "outputs": []
    },
    {
      "cell_type": "code",
      "metadata": {
        "id": "zvPcDzy0k0NR",
        "colab_type": "code",
        "colab": {}
      },
      "source": [
        "movie_binary_log_rg_results"
      ],
      "execution_count": 0,
      "outputs": []
    },
    {
      "cell_type": "code",
      "metadata": {
        "id": "tq2U3ptzk7zk",
        "colab_type": "code",
        "colab": {}
      },
      "source": [
        "movie_ngrams_log_rg_results = cv_eval_save(\"movie_ngrams_results_log_rg.pkl\", log_rg_grid, movie['movie_ngrams']['X_train'], movie['movie_ngrams']['y_train'],\n",
        "             movie['movie_ngrams']['X_test'], movie['movie_ngrams']['y_test'], movie_labels, 'binary')"
      ],
      "execution_count": 0,
      "outputs": []
    },
    {
      "cell_type": "code",
      "metadata": {
        "id": "JRYBnHZyizmP",
        "colab_type": "code",
        "colab": {}
      },
      "source": [
        "movie_ngrams_log_rg_results"
      ],
      "execution_count": 0,
      "outputs": []
    },
    {
      "cell_type": "code",
      "metadata": {
        "id": "3x_7gQu5iu5P",
        "colab_type": "code",
        "colab": {}
      },
      "source": [
        "files.download(\"movie_ngrams_results_log_rg.pkl\")"
      ],
      "execution_count": 0,
      "outputs": []
    },
    {
      "cell_type": "code",
      "metadata": {
        "id": "4qDjDmnRiyjw",
        "colab_type": "code",
        "colab": {}
      },
      "source": [
        "movie_binary_ngrams_log_rg_results = cv_eval_save(\"movie_binary_ngrams_results_log_rg.pkl\", log_rg_grid, movie['movie_binary_ngrams']['X_train'], movie['movie_binary_ngrams']['y_train'],\n",
        "             movie['movie_binary_ngrams']['X_test'], movie['movie_binary_ngrams']['y_test'], movie_labels, 'binary')"
      ],
      "execution_count": 0,
      "outputs": []
    },
    {
      "cell_type": "code",
      "metadata": {
        "id": "R8HySrnJi191",
        "colab_type": "code",
        "colab": {}
      },
      "source": [
        "movie_binary_ngrams_log_rg_results"
      ],
      "execution_count": 0,
      "outputs": []
    },
    {
      "cell_type": "code",
      "metadata": {
        "id": "qOWRjeAKi9hk",
        "colab_type": "code",
        "colab": {}
      },
      "source": [
        "files.download(\"movie_binary_ngrams_results_log_rg.pkl\")"
      ],
      "execution_count": 0,
      "outputs": []
    },
    {
      "cell_type": "markdown",
      "metadata": {
        "id": "urPTbgk4KAcw",
        "colab_type": "text"
      },
      "source": [
        "## News"
      ]
    },
    {
      "cell_type": "code",
      "metadata": {
        "id": "U8PuSwbPKCPu",
        "colab_type": "code",
        "colab": {}
      },
      "source": [
        "news_log_rg_results = cv_eval_save(\"news_results_log_rg.pkl\", log_rg_grid, news['news']['X_train'], news['news']['y_train'],\n",
        "             news['news']['X_test'], news['news']['y_test'], news_labels, 'micro')"
      ],
      "execution_count": 0,
      "outputs": []
    },
    {
      "cell_type": "code",
      "metadata": {
        "id": "Qvsd1wRvDicG",
        "colab_type": "code",
        "colab": {}
      },
      "source": [
        "files.download(\"news_results_log_rg.pkl\") "
      ],
      "execution_count": 0,
      "outputs": []
    },
    {
      "cell_type": "code",
      "metadata": {
        "id": "mkVIZYeiDysj",
        "colab_type": "code",
        "colab": {}
      },
      "source": [
        "news_log_rg_results"
      ],
      "execution_count": 0,
      "outputs": []
    },
    {
      "cell_type": "code",
      "metadata": {
        "colab_type": "code",
        "id": "d4dTUqjiGbce",
        "colab": {}
      },
      "source": [
        "news_binary_log_rg_results = cv_eval_save(\"news_binary_results_log_rg.pkl\", log_rg_grid, news['news_binary']['X_train'], news['news_binary']['y_train'],\n",
        "             news['news_binary']['X_test'], news['news_binary']['y_test'], news_labels, 'micro')"
      ],
      "execution_count": 0,
      "outputs": []
    },
    {
      "cell_type": "code",
      "metadata": {
        "colab_type": "code",
        "id": "7tDYr7glGbc5",
        "colab": {}
      },
      "source": [
        "files.download(\"news_binary_results_log_rg.pkl\") "
      ],
      "execution_count": 0,
      "outputs": []
    },
    {
      "cell_type": "code",
      "metadata": {
        "colab_type": "code",
        "id": "5PZMmzCAGbdC",
        "colab": {}
      },
      "source": [
        "news_binary_log_rg_results"
      ],
      "execution_count": 0,
      "outputs": []
    },
    {
      "cell_type": "code",
      "metadata": {
        "colab_type": "code",
        "id": "Ap4wQku3GmL5",
        "colab": {}
      },
      "source": [
        "news_ngrams_log_rg_results = cv_eval_save(\"news_ngrams_results_log_rg.pkl\", log_rg_grid, news['news_ngrams']['X_train'], news['news_ngrams']['y_train'],\n",
        "             news['news_ngrams']['X_test'], news['news_ngrams']['y_test'], news_labels, 'micro')"
      ],
      "execution_count": 0,
      "outputs": []
    },
    {
      "cell_type": "code",
      "metadata": {
        "colab_type": "code",
        "id": "ZOP09jJoGmMF",
        "colab": {}
      },
      "source": [
        "files.download(\"news_ngrams_results_log_rg.pkl\") "
      ],
      "execution_count": 0,
      "outputs": []
    },
    {
      "cell_type": "code",
      "metadata": {
        "colab_type": "code",
        "id": "72VEZBfkGmMP",
        "colab": {}
      },
      "source": [
        "news_ngrams_log_rg_results"
      ],
      "execution_count": 0,
      "outputs": []
    },
    {
      "cell_type": "code",
      "metadata": {
        "colab_type": "code",
        "id": "DasrVn7oGtfz",
        "outputId": "81bc5ff1-50ca-4420-c438-ae0197ff61d0",
        "colab": {
          "base_uri": "https://localhost:8080/",
          "height": 201
        }
      },
      "source": [
        "news_binary_ngrams_log_rg_results = cv_eval_save(\"news_binary_ngrams_results_log_rg.pkl\", log_rg_grid, news['news_binary_ngrams']['X_train'], news['news_binary_ngrams']['y_train'],\n",
        "             news['news_binary_ngrams']['X_test'], news['news_binary_ngrams']['y_test'], news_labels, 'micro')"
      ],
      "execution_count": 0,
      "outputs": [
        {
          "output_type": "error",
          "ename": "NameError",
          "evalue": "ignored",
          "traceback": [
            "\u001b[0;31m---------------------------------------------------------------------------\u001b[0m",
            "\u001b[0;31mNameError\u001b[0m                                 Traceback (most recent call last)",
            "\u001b[0;32m<ipython-input-1-2c9316a262d8>\u001b[0m in \u001b[0;36m<module>\u001b[0;34m()\u001b[0m\n\u001b[0;32m----> 1\u001b[0;31m news_binary_ngrams_log_rg_results = cv_eval_save(\"news_binary_ngrams_results_log_rg.pkl\", log_rg_grid, news['news_binary_ngrams']['X_train'], news['news_binary_ngrams']['y_train'],\n\u001b[0m\u001b[1;32m      2\u001b[0m              news['news_binary_ngrams']['X_test'], news['news_binary_ngrams']['y_test'], news_labels, 'micro')\n",
            "\u001b[0;31mNameError\u001b[0m: name 'cv_eval_save' is not defined"
          ]
        }
      ]
    },
    {
      "cell_type": "code",
      "metadata": {
        "colab_type": "code",
        "id": "V77iZMPvGtf8",
        "colab": {}
      },
      "source": [
        "files.download(\"news_binary_ngrams_results_log_rg.pkl\") "
      ],
      "execution_count": 0,
      "outputs": []
    },
    {
      "cell_type": "code",
      "metadata": {
        "colab_type": "code",
        "id": "nQOPrUwsGtgE",
        "colab": {}
      },
      "source": [
        "news_binary_ngrams_log_rg_results"
      ],
      "execution_count": 0,
      "outputs": []
    },
    {
      "cell_type": "markdown",
      "metadata": {
        "id": "njk5uwPKGUuF",
        "colab_type": "text"
      },
      "source": [
        "# Decision Tree\n"
      ]
    },
    {
      "cell_type": "code",
      "metadata": {
        "id": "_DoIclM5GZq1",
        "colab_type": "code",
        "colab": {}
      },
      "source": [
        "dec_tree=DecisionTreeClassifier(criterion='entropy',splitter='best')"
      ],
      "execution_count": 0,
      "outputs": []
    },
    {
      "cell_type": "code",
      "metadata": {
        "id": "PSBA9pytL68k",
        "colab_type": "code",
        "colab": {}
      },
      "source": [
        "dec_tree_param = { #Params for gridsearch\n",
        "    'min_samples_leaf': [4, 16, 64],\n",
        "    'min_samples_split': [32, 128, 256],\n",
        "    'max_features': [0.2, 0.3, 0.4],\n",
        "    'max_depth':[1000, 10000, 1000000]\n",
        "}\n"
      ],
      "execution_count": 0,
      "outputs": []
    },
    {
      "cell_type": "code",
      "metadata": {
        "id": "LU8mnLDVNwTm",
        "colab_type": "code",
        "colab": {}
      },
      "source": [
        "dec_tree_grid = GridSearchCV(estimator=dec_tree, param_grid=dec_tree_param, n_jobs=-1,\n",
        "                                cv=5, refit=True, verbose=2, return_train_score = True) #Tune Parameters"
      ],
      "execution_count": 0,
      "outputs": []
    },
    {
      "cell_type": "markdown",
      "metadata": {
        "id": "2teFZTbuObkL",
        "colab_type": "text"
      },
      "source": [
        "## Movie\n"
      ]
    },
    {
      "cell_type": "code",
      "metadata": {
        "id": "89IJnuLwOit2",
        "colab_type": "code",
        "colab": {}
      },
      "source": [
        "movie_dec_tree_results = cv_eval_save(\"movie_results_dec_tree.pkl\", dec_tree_grid, movie['movie']['X_train'], movie['movie']['y_train'],\n",
        "             movie['movie']['X_test'], movie['movie']['y_test'], movie_labels, 'binary')"
      ],
      "execution_count": 0,
      "outputs": []
    },
    {
      "cell_type": "code",
      "metadata": {
        "id": "b_nRFIZnD535",
        "colab_type": "code",
        "colab": {}
      },
      "source": [
        "files.download(\"movie_results_dec_tree.pkl\") "
      ],
      "execution_count": 0,
      "outputs": []
    },
    {
      "cell_type": "code",
      "metadata": {
        "id": "2W_o4fZ7PyK4",
        "colab_type": "code",
        "colab": {}
      },
      "source": [
        "movie_dec_tree_results"
      ],
      "execution_count": 0,
      "outputs": []
    },
    {
      "cell_type": "code",
      "metadata": {
        "colab_type": "code",
        "id": "QCFgcl0HHBDE",
        "colab": {}
      },
      "source": [
        "movie_binary_dec_tree_results = cv_eval_save(\"movie_binary_results_dec_tree.pkl\", dec_tree_grid, movie['movie_binary']['X_train'], movie['movie_binary']['y_train'],\n",
        "             movie['movie_binary']['X_test'], movie['movie_binary']['y_test'], movie_labels, 'binary')"
      ],
      "execution_count": 0,
      "outputs": []
    },
    {
      "cell_type": "code",
      "metadata": {
        "colab_type": "code",
        "id": "5rb3v50mHBDa",
        "colab": {}
      },
      "source": [
        "files.download(\"movie_binary_results_dec_tree.pkl\") "
      ],
      "execution_count": 0,
      "outputs": []
    },
    {
      "cell_type": "code",
      "metadata": {
        "colab_type": "code",
        "id": "o5qgJsGoHBDk",
        "colab": {}
      },
      "source": [
        "movie_binary_dec_tree_results"
      ],
      "execution_count": 0,
      "outputs": []
    },
    {
      "cell_type": "code",
      "metadata": {
        "colab_type": "code",
        "id": "iILy8EcnHLFq",
        "colab": {}
      },
      "source": [
        "movie_ngrams_dec_tree_results = cv_eval_save(\"movie_ngrams_results_dec_tree.pkl\", dec_tree_grid, movie['movie_ngrams']['X_train'], movie['movie_ngrams']['y_train'],\n",
        "             movie['movie_ngrams']['X_test'], movie['movie_ngrams']['y_test'], movie_labels, 'binary')"
      ],
      "execution_count": 0,
      "outputs": []
    },
    {
      "cell_type": "code",
      "metadata": {
        "colab_type": "code",
        "id": "1y-h_3yeHLF3",
        "colab": {}
      },
      "source": [
        "files.download(\"movie_ngrams_results_dec_tree.pkl\") "
      ],
      "execution_count": 0,
      "outputs": []
    },
    {
      "cell_type": "code",
      "metadata": {
        "colab_type": "code",
        "id": "7v3Tatl1HLGE",
        "colab": {}
      },
      "source": [
        "movie_ngrams_dec_tree_results"
      ],
      "execution_count": 0,
      "outputs": []
    },
    {
      "cell_type": "code",
      "metadata": {
        "colab_type": "code",
        "id": "8xj2MY6qHgsV",
        "colab": {}
      },
      "source": [
        "movie_binary_ngrams_dec_tree_results = cv_eval_save(\"movie_binary_ngrams_results_dec_tree.pkl\", dec_tree_grid, movie['movie_binary_ngrams']['X_train'], movie['movie_binary_ngrams']['y_train'],\n",
        "             movie['movie_binary_ngrams']['X_test'], movie['movie_binary_ngrams']['y_test'], movie_labels, 'binary')"
      ],
      "execution_count": 0,
      "outputs": []
    },
    {
      "cell_type": "code",
      "metadata": {
        "colab_type": "code",
        "id": "8ytKmQW9Hgsf",
        "colab": {}
      },
      "source": [
        "files.download(\"movie_binary_ngrams_results_dec_tree.pkl\") "
      ],
      "execution_count": 0,
      "outputs": []
    },
    {
      "cell_type": "code",
      "metadata": {
        "colab_type": "code",
        "id": "g9BC8AnKHgsl",
        "colab": {}
      },
      "source": [
        "movie_binary_ngrams_dec_tree_results"
      ],
      "execution_count": 0,
      "outputs": []
    },
    {
      "cell_type": "markdown",
      "metadata": {
        "id": "_kUTAT3YKOgp",
        "colab_type": "text"
      },
      "source": [
        "## News"
      ]
    },
    {
      "cell_type": "code",
      "metadata": {
        "id": "War0y2T2KP_9",
        "colab_type": "code",
        "colab": {}
      },
      "source": [
        "news_dec_tree_results = cv_eval_save(\"news_results_dec_tree.pkl\", dec_tree_grid, news['news']['X_train'], news['news']['y_train'],\n",
        "             news['news']['X_test'], news['news']['y_test'], news_labels, 'micro')"
      ],
      "execution_count": 0,
      "outputs": []
    },
    {
      "cell_type": "code",
      "metadata": {
        "id": "WoTf46SeEABH",
        "colab_type": "code",
        "colab": {}
      },
      "source": [
        "files.download(\"news_results_dec_tree.pkl\") "
      ],
      "execution_count": 0,
      "outputs": []
    },
    {
      "cell_type": "code",
      "metadata": {
        "id": "dv4TX2rXKkCk",
        "colab_type": "code",
        "colab": {}
      },
      "source": [
        "news_dec_tree_results"
      ],
      "execution_count": 0,
      "outputs": []
    },
    {
      "cell_type": "code",
      "metadata": {
        "colab_type": "code",
        "id": "vHQnBBpKHs0p",
        "colab": {}
      },
      "source": [
        "news_binary_dec_tree_results = cv_eval_save(\"news_binary_results_dec_tree.pkl\", dec_tree_grid, news['news_binary']['X_train'], news['news_binary']['y_train'],\n",
        "             news['news_binary']['X_test'], news['news_binary']['y_test'], news_labels, 'micro')"
      ],
      "execution_count": 0,
      "outputs": []
    },
    {
      "cell_type": "code",
      "metadata": {
        "colab_type": "code",
        "id": "y45oqP4-Hs04",
        "colab": {}
      },
      "source": [
        "files.download(\"news_binary_results_dec_tree.pkl\") "
      ],
      "execution_count": 0,
      "outputs": []
    },
    {
      "cell_type": "code",
      "metadata": {
        "colab_type": "code",
        "id": "2fKg1VoRHs1A",
        "colab": {}
      },
      "source": [
        "news_binary_dec_tree_results"
      ],
      "execution_count": 0,
      "outputs": []
    },
    {
      "cell_type": "code",
      "metadata": {
        "colab_type": "code",
        "id": "P4eKj4q3IH8J",
        "colab": {}
      },
      "source": [
        "news_ngrams_dec_tree_results = cv_eval_save(\"news_ngrams_results_dec_tree.pkl\", dec_tree_grid, news['news_ngrams']['X_train'], news['news_ngrams']['y_train'],\n",
        "             news['news_ngrams']['X_test'], news['news_ngrams']['y_test'], news_labels, 'micro')"
      ],
      "execution_count": 0,
      "outputs": []
    },
    {
      "cell_type": "code",
      "metadata": {
        "colab_type": "code",
        "id": "GRiMr8C8IH8V",
        "colab": {}
      },
      "source": [
        "files.download(\"news_ngrams_results_dec_tree.pkl\") "
      ],
      "execution_count": 0,
      "outputs": []
    },
    {
      "cell_type": "code",
      "metadata": {
        "colab_type": "code",
        "id": "dNjDwTEDIH8i",
        "colab": {}
      },
      "source": [
        "news_ngrams_dec_tree_results"
      ],
      "execution_count": 0,
      "outputs": []
    },
    {
      "cell_type": "code",
      "metadata": {
        "colab_type": "code",
        "id": "U9mgAEs2IP1x",
        "colab": {}
      },
      "source": [
        "news_binary_ngrams_dec_tree_results = cv_eval_save(\"news_binary_ngrams_results_dec_tree.pkl\", dec_tree_grid, news['news_binary_ngrams']['X_train'], news['news_binary_ngrams']['y_train'],\n",
        "             news['news_binary_ngrams']['X_test'], news['news_binary_ngrams']['y_test'], news_labels, 'micro')"
      ],
      "execution_count": 0,
      "outputs": []
    },
    {
      "cell_type": "code",
      "metadata": {
        "colab_type": "code",
        "id": "Gvs0XAfIIP16",
        "colab": {}
      },
      "source": [
        "files.download(\"news_binary_ngrams_results_dec_tree.pkl\") "
      ],
      "execution_count": 0,
      "outputs": []
    },
    {
      "cell_type": "code",
      "metadata": {
        "colab_type": "code",
        "id": "W57ioj-6IP2D",
        "colab": {}
      },
      "source": [
        "news_binary_ngrams_dec_tree_results"
      ],
      "execution_count": 0,
      "outputs": []
    },
    {
      "cell_type": "markdown",
      "metadata": {
        "id": "dKBs09bDbIUB",
        "colab_type": "text"
      },
      "source": [
        "# Support Vector Machines"
      ]
    },
    {
      "cell_type": "code",
      "metadata": {
        "id": "OMGxWgHRbb2p",
        "colab_type": "code",
        "colab": {}
      },
      "source": [
        "svm = LinearSVC(dual=True, penalty = 'l2', loss='hinge', C = 1, max_iter=10000)"
      ],
      "execution_count": 0,
      "outputs": []
    },
    {
      "cell_type": "code",
      "metadata": {
        "id": "kxEnpB8_coXB",
        "colab_type": "code",
        "colab": {}
      },
      "source": [
        "SVM_param = { #Params for gridsearch\n",
        "    'C': np.logspace(-1, 1, 20),\n",
        "    'penalty': ['l1', 'l2'],\n",
        "    'loss': ['hinge', 'squared_hinge'],\n",
        "}"
      ],
      "execution_count": 0,
      "outputs": []
    },
    {
      "cell_type": "code",
      "metadata": {
        "id": "NUlrZoSsdkAR",
        "colab_type": "code",
        "colab": {}
      },
      "source": [
        "SVM_grid = GridSearchCV(estimator=svm, param_grid=SVM_param, n_jobs=-1,\n",
        "                                cv=5, refit=True, verbose=2, return_train_score = True) #Tune Parameters"
      ],
      "execution_count": 0,
      "outputs": []
    },
    {
      "cell_type": "markdown",
      "metadata": {
        "id": "beJi5Z1UdvC8",
        "colab_type": "text"
      },
      "source": [
        "## Movie"
      ]
    },
    {
      "cell_type": "code",
      "metadata": {
        "id": "ty-ZNWd9dxGO",
        "colab_type": "code",
        "colab": {}
      },
      "source": [
        "movie_SVM_results = cv_eval_save(\"movie_results_SVM.pkl\", SVM_grid, movie['movie']['X_train'], movie['movie']['y_train'],\n",
        "             movie['movie']['X_test'], movie['movie']['y_test'], movie_labels,'binary')"
      ],
      "execution_count": 0,
      "outputs": []
    },
    {
      "cell_type": "code",
      "metadata": {
        "id": "olR9O3J-EHQb",
        "colab_type": "code",
        "colab": {}
      },
      "source": [
        "files.download(\"movie_results_SVM.pkl\")"
      ],
      "execution_count": 0,
      "outputs": []
    },
    {
      "cell_type": "code",
      "metadata": {
        "id": "oDVttlFWf8FM",
        "colab_type": "code",
        "colab": {}
      },
      "source": [
        "movie_SVM_results"
      ],
      "execution_count": 0,
      "outputs": []
    },
    {
      "cell_type": "code",
      "metadata": {
        "colab_type": "code",
        "id": "QA78XRZCIgZf",
        "colab": {}
      },
      "source": [
        "movie_binary_SVM_results = cv_eval_save(\"movie_binary_results_SVM.pkl\", SVM_grid, movie['movie_binary']['X_train'], movie['movie_binary']['y_train'],\n",
        "             movie['movie_binary']['X_test'], movie['movie_binary']['y_test'], movie_labels,'binary')"
      ],
      "execution_count": 0,
      "outputs": []
    },
    {
      "cell_type": "code",
      "metadata": {
        "colab_type": "code",
        "id": "4281y1CwIgZz",
        "colab": {}
      },
      "source": [
        "files.download(\"movie_binary_results_SVM.pkl\")"
      ],
      "execution_count": 0,
      "outputs": []
    },
    {
      "cell_type": "code",
      "metadata": {
        "colab_type": "code",
        "id": "Pk_oN7txIgZ2",
        "colab": {}
      },
      "source": [
        "movie_binary_SVM_results"
      ],
      "execution_count": 0,
      "outputs": []
    },
    {
      "cell_type": "code",
      "metadata": {
        "colab_type": "code",
        "id": "OWPugn2fIqWW",
        "colab": {}
      },
      "source": [
        "movie_ngrams_SVM_results = cv_eval_save(\"movie_ngrams_results_SVM.pkl\", SVM_grid, movie['movie_ngrams']['X_train'], movie['movie_ngrams']['y_train'],\n",
        "             movie['movie_ngrams']['X_test'], movie['movie_ngrams']['y_test'], movie_labels,'binary')"
      ],
      "execution_count": 0,
      "outputs": []
    },
    {
      "cell_type": "code",
      "metadata": {
        "colab_type": "code",
        "id": "rdm0uDjdIqWi",
        "colab": {}
      },
      "source": [
        "files.download(\"movie_ngrams_results_SVM.pkl\")"
      ],
      "execution_count": 0,
      "outputs": []
    },
    {
      "cell_type": "code",
      "metadata": {
        "colab_type": "code",
        "id": "Mg7wT_alIqWp",
        "colab": {}
      },
      "source": [
        "movie_ngrams_SVM_results"
      ],
      "execution_count": 0,
      "outputs": []
    },
    {
      "cell_type": "code",
      "metadata": {
        "colab_type": "code",
        "id": "7Nymc94XIyBF",
        "colab": {}
      },
      "source": [
        "movie_binary_ngrams_SVM_results = cv_eval_save(\"movie_binary_ngrams_results_SVM.pkl\", SVM_grid, movie['movie_binary_ngrams']['X_train'], movie['movie_binary_ngrams']['y_train'],\n",
        "             movie['movie_binary_ngrams']['X_test'], movie['movie_binary_ngrams']['y_test'], movie_labels,'binary')"
      ],
      "execution_count": 0,
      "outputs": []
    },
    {
      "cell_type": "code",
      "metadata": {
        "colab_type": "code",
        "id": "IxNZrQqjIyBV",
        "colab": {}
      },
      "source": [
        "files.download(\"movie_binary_ngrams_results_SVM.pkl\")"
      ],
      "execution_count": 0,
      "outputs": []
    },
    {
      "cell_type": "code",
      "metadata": {
        "colab_type": "code",
        "id": "I7sf73XpIyBg",
        "colab": {}
      },
      "source": [
        "movie_binary_ngrams_SVM_results"
      ],
      "execution_count": 0,
      "outputs": []
    },
    {
      "cell_type": "markdown",
      "metadata": {
        "id": "n1PHwXTygdZe",
        "colab_type": "text"
      },
      "source": [
        "## News"
      ]
    },
    {
      "cell_type": "code",
      "metadata": {
        "id": "ZxTxpexDgfa_",
        "colab_type": "code",
        "colab": {}
      },
      "source": [
        "news_SVM_results = cv_eval_save(\"news_results_SVM.pkl\", SVM_grid, news['news']['X_train'], news['news']['y_train'],\n",
        "             news['news']['X_test'], news['news']['y_test'], news_labels, 'micro')"
      ],
      "execution_count": 0,
      "outputs": []
    },
    {
      "cell_type": "code",
      "metadata": {
        "id": "rqgaLFrQESfV",
        "colab_type": "code",
        "colab": {}
      },
      "source": [
        "files.download(\"news_results_SVM.pkl\")"
      ],
      "execution_count": 0,
      "outputs": []
    },
    {
      "cell_type": "code",
      "metadata": {
        "id": "I9UlvlSaEcMv",
        "colab_type": "code",
        "colab": {}
      },
      "source": [
        "news_SVM_results"
      ],
      "execution_count": 0,
      "outputs": []
    },
    {
      "cell_type": "code",
      "metadata": {
        "colab_type": "code",
        "id": "0djHEkPaJARQ",
        "colab": {}
      },
      "source": [
        "news_binary_SVM_results = cv_eval_save(\"news_binary_results_SVM.pkl\", SVM_grid, news['news_binary']['X_train'], news['news_binary']['y_train'],\n",
        "             news['news_binary']['X_test'], news['news_binary']['y_test'], news_labels, 'micro')"
      ],
      "execution_count": 0,
      "outputs": []
    },
    {
      "cell_type": "code",
      "metadata": {
        "colab_type": "code",
        "id": "7vDq638gJARb",
        "colab": {}
      },
      "source": [
        "files.download(\"news_binary_results_SVM.pkl\")"
      ],
      "execution_count": 0,
      "outputs": []
    },
    {
      "cell_type": "code",
      "metadata": {
        "colab_type": "code",
        "id": "JBbNZQbtJARh",
        "colab": {}
      },
      "source": [
        "news_binary_SVM_results"
      ],
      "execution_count": 0,
      "outputs": []
    },
    {
      "cell_type": "code",
      "metadata": {
        "colab_type": "code",
        "id": "4ttOZYzPJG8H",
        "colab": {}
      },
      "source": [
        "news_ngrams_SVM_results = cv_eval_save(\"news_ngrams_results_SVM.pkl\", SVM_grid, news['news_ngrams']['X_train'], news['news_ngrams']['y_train'],\n",
        "             news['news_ngrams']['X_test'], news['news_ngrams']['y_test'], news_labels, 'micro')"
      ],
      "execution_count": 0,
      "outputs": []
    },
    {
      "cell_type": "code",
      "metadata": {
        "colab_type": "code",
        "id": "wb5vx24xJG8O",
        "colab": {}
      },
      "source": [
        "files.download(\"news_ngrams_results_SVM.pkl\")"
      ],
      "execution_count": 0,
      "outputs": []
    },
    {
      "cell_type": "code",
      "metadata": {
        "colab_type": "code",
        "id": "Vjipv_JiJG8V",
        "colab": {}
      },
      "source": [
        "news_ngrams_SVM_results"
      ],
      "execution_count": 0,
      "outputs": []
    },
    {
      "cell_type": "code",
      "metadata": {
        "colab_type": "code",
        "id": "_vZb6GWaJdLO",
        "colab": {}
      },
      "source": [
        "news_binary_ngrams_SVM_results = cv_eval_save(\"news_binary_ngrams_results_SVM.pkl\", SVM_grid, news['news_binary_ngrams']['X_train'], news['news_binary_ngrams']['y_train'],\n",
        "             news['news_binary_ngrams']['X_test'], news['news_binary_ngrams']['y_test'], news_labels, 'micro')"
      ],
      "execution_count": 0,
      "outputs": []
    },
    {
      "cell_type": "code",
      "metadata": {
        "colab_type": "code",
        "id": "Z_9BbLc7JdLV",
        "colab": {}
      },
      "source": [
        "files.download(\"news_binary_ngrams_results_SVM.pkl\")"
      ],
      "execution_count": 0,
      "outputs": []
    },
    {
      "cell_type": "code",
      "metadata": {
        "colab_type": "code",
        "id": "f4qQJET-JdLd",
        "colab": {}
      },
      "source": [
        "news_binary_ngrams_SVM_results"
      ],
      "execution_count": 0,
      "outputs": []
    },
    {
      "cell_type": "markdown",
      "metadata": {
        "id": "oHCnpv4l31wr",
        "colab_type": "text"
      },
      "source": [
        "# Ada Boost"
      ]
    },
    {
      "cell_type": "code",
      "metadata": {
        "id": "C92Odhl-39T7",
        "colab_type": "code",
        "colab": {}
      },
      "source": [
        "ada_b=AdaBoostClassifier(base_estimator= None, algorithm= 'SAMME.R')\n",
        "\n",
        "ada_param = { #Params for gridsearch\n",
        "    'n_estimators': [10, 50, 1e2, 1e3, 1e5, 1e6, 1e7, 1e8],\n",
        "    'learning_rate': [1e-6, 1e-5, 1e-4, 1e-3, 0.01, 0.1, 0.5, 0.1, 1, 5, 10, 100]\n",
        "}\n",
        "\n",
        "ada_grid = GridSearchCV(estimator=ada_b, param_grid=ada_param, n_jobs=-1,\n",
        "                                cv=5, refit=True, verbose=2, return_train_score = True) #Tune Parameters\n"
      ],
      "execution_count": 0,
      "outputs": []
    },
    {
      "cell_type": "markdown",
      "metadata": {
        "id": "s2PI4Vkf5Zzs",
        "colab_type": "text"
      },
      "source": [
        "## Movie"
      ]
    },
    {
      "cell_type": "code",
      "metadata": {
        "id": "IPxjMKAj5byU",
        "colab_type": "code",
        "colab": {}
      },
      "source": [
        "movie_ada_results = cv_eval_save(\"movie_results_ada.pkl\", ada_grid, movie['movie']['X_train'], movie['movie']['y_train'],\n",
        "             movie['movie']['X_test'], movie['movie']['y_test'], movie_labels, 'binary')"
      ],
      "execution_count": 0,
      "outputs": []
    },
    {
      "cell_type": "code",
      "metadata": {
        "id": "NnETKYKGEkb_",
        "colab_type": "code",
        "colab": {}
      },
      "source": [
        "files.download(\"movie_results_ada.pkl\")"
      ],
      "execution_count": 0,
      "outputs": []
    },
    {
      "cell_type": "code",
      "metadata": {
        "id": "775NiS5L-G3e",
        "colab_type": "code",
        "colab": {}
      },
      "source": [
        "movie_ada_results"
      ],
      "execution_count": 0,
      "outputs": []
    },
    {
      "cell_type": "code",
      "metadata": {
        "colab_type": "code",
        "id": "wtYKcBbUJoGC",
        "colab": {}
      },
      "source": [
        "movie_binary_ada_results = cv_eval_save(\"movie_binary_results_ada.pkl\", ada_grid, movie['movie_binary']['X_train'], movie['movie_binary']['y_train'],\n",
        "             movie['movie_binary']['X_test'], movie['movie_binary']['y_test'], movie_labels, 'binary')"
      ],
      "execution_count": 0,
      "outputs": []
    },
    {
      "cell_type": "code",
      "metadata": {
        "colab_type": "code",
        "id": "O0uprwoEJoGL",
        "colab": {}
      },
      "source": [
        "files.download(\"movie_binary_results_ada.pkl\")"
      ],
      "execution_count": 0,
      "outputs": []
    },
    {
      "cell_type": "code",
      "metadata": {
        "colab_type": "code",
        "id": "0g64aX-DJoGV",
        "colab": {}
      },
      "source": [
        "movie_binary_ada_results"
      ],
      "execution_count": 0,
      "outputs": []
    },
    {
      "cell_type": "code",
      "metadata": {
        "colab_type": "code",
        "id": "KGko4O68JwoC",
        "colab": {}
      },
      "source": [
        "movie_ngrams_ada_results = cv_eval_save(\"movie_ngrams_results_ada.pkl\", ada_grid, movie['movie_ngrams']['X_train'], movie['movie_ngrams']['y_train'],\n",
        "             movie['movie_ngrams']['X_test'], movie['movie_ngrams']['y_test'], movie_labels, 'binary')"
      ],
      "execution_count": 0,
      "outputs": []
    },
    {
      "cell_type": "code",
      "metadata": {
        "colab_type": "code",
        "id": "t4Y0dMaOJwoJ",
        "colab": {}
      },
      "source": [
        "files.download(\"movie_ngrams_results_ada.pkl\")"
      ],
      "execution_count": 0,
      "outputs": []
    },
    {
      "cell_type": "code",
      "metadata": {
        "colab_type": "code",
        "id": "6HvZ3N-vJwoS",
        "colab": {}
      },
      "source": [
        "movie_ngrams_ada_results"
      ],
      "execution_count": 0,
      "outputs": []
    },
    {
      "cell_type": "code",
      "metadata": {
        "colab_type": "code",
        "id": "FxuacYg5J4cw",
        "colab": {}
      },
      "source": [
        "movie_binary_ngrams_ada_results = cv_eval_save(\"movie_binary_ngrams_results_ada.pkl\", ada_grid, movie['movie_binary_ngrams']['X_train'], movie['movie_binary_ngrams']['y_train'],\n",
        "             movie['movie_binary_ngrams']['X_test'], movie['movie_binary_ngrams']['y_test'], movie_labels, 'binary')"
      ],
      "execution_count": 0,
      "outputs": []
    },
    {
      "cell_type": "code",
      "metadata": {
        "colab_type": "code",
        "id": "SJSu8kqyJ4c9",
        "colab": {}
      },
      "source": [
        "files.download(\"movie_binary_ngrams_results_ada.pkl\")"
      ],
      "execution_count": 0,
      "outputs": []
    },
    {
      "cell_type": "code",
      "metadata": {
        "colab_type": "code",
        "id": "vmPpR_FTJ4dJ",
        "colab": {}
      },
      "source": [
        "movie_binary_ngrams_ada_results"
      ],
      "execution_count": 0,
      "outputs": []
    },
    {
      "cell_type": "markdown",
      "metadata": {
        "id": "KTc-HmkV-KQ4",
        "colab_type": "text"
      },
      "source": [
        "## News"
      ]
    },
    {
      "cell_type": "code",
      "metadata": {
        "id": "WSbVWfR1-M14",
        "colab_type": "code",
        "colab": {}
      },
      "source": [
        "news_ada_results = cv_eval_save(\"news_results_ada.pkl\", ada_grid, news['news']['X_train'], news['news']['y_train'],\n",
        "             news['news']['X_test'], news['news']['y_test'], news_labels, 'weighted')"
      ],
      "execution_count": 0,
      "outputs": []
    },
    {
      "cell_type": "code",
      "metadata": {
        "id": "fwQEcbbyEqgi",
        "colab_type": "code",
        "colab": {}
      },
      "source": [
        "files.download(\"news_results_ada.pkl\")"
      ],
      "execution_count": 0,
      "outputs": []
    },
    {
      "cell_type": "code",
      "metadata": {
        "id": "qkQAdXR9_3sZ",
        "colab_type": "code",
        "colab": {}
      },
      "source": [
        "news_ada_results"
      ],
      "execution_count": 0,
      "outputs": []
    },
    {
      "cell_type": "code",
      "metadata": {
        "colab_type": "code",
        "id": "dWF7YTkRKGjS",
        "colab": {}
      },
      "source": [
        "news_binary_ada_results = cv_eval_save(\"news_binary_results_ada.pkl\", ada_grid, news['news_binary']['X_train'], news['news_binary']['y_train'],\n",
        "             news['news_binary']['X_test'], news['news_binary']['y_test'], news_labels, 'weighted')"
      ],
      "execution_count": 0,
      "outputs": []
    },
    {
      "cell_type": "code",
      "metadata": {
        "colab_type": "code",
        "id": "EeWolAvzKGje",
        "colab": {}
      },
      "source": [
        "files.download(\"news_binary_results_ada.pkl\")"
      ],
      "execution_count": 0,
      "outputs": []
    },
    {
      "cell_type": "code",
      "metadata": {
        "colab_type": "code",
        "id": "ZQn8n8r3KGjp",
        "colab": {}
      },
      "source": [
        "news_binary_ada_results"
      ],
      "execution_count": 0,
      "outputs": []
    },
    {
      "cell_type": "code",
      "metadata": {
        "colab_type": "code",
        "id": "-7DJeG1nKOA2",
        "colab": {}
      },
      "source": [
        "news_ngrams_ada_results = cv_eval_save(\"news_ngrams_results_ada.pkl\", ada_grid, news['news_ngrams']['X_train'], news['news_ngrams']['y_train'],\n",
        "             news['news_ngrams']['X_test'], news['news_ngrams']['y_test'], news_labels, 'weighted')"
      ],
      "execution_count": 0,
      "outputs": []
    },
    {
      "cell_type": "code",
      "metadata": {
        "colab_type": "code",
        "id": "lLojmIr-KOBH",
        "colab": {}
      },
      "source": [
        "files.download(\"news_ngrams_results_ada.pkl\")"
      ],
      "execution_count": 0,
      "outputs": []
    },
    {
      "cell_type": "code",
      "metadata": {
        "colab_type": "code",
        "id": "qYvdPhX6KOBP",
        "colab": {}
      },
      "source": [
        "news_ngrams_ada_results"
      ],
      "execution_count": 0,
      "outputs": []
    },
    {
      "cell_type": "code",
      "metadata": {
        "colab_type": "code",
        "id": "EbL_46JTKVlQ",
        "colab": {}
      },
      "source": [
        "news_binary_ngrams_ada_results = cv_eval_save(\"news_binary_ngrams_results_ada.pkl\", ada_grid, news['news_binary_ngrams']['X_train'], news['news_binary_ngrams']['y_train'],\n",
        "             news['news_binary_ngrams']['X_test'], news['news_binary_ngrams']['y_test'], news_labels, 'weighted')"
      ],
      "execution_count": 0,
      "outputs": []
    },
    {
      "cell_type": "code",
      "metadata": {
        "colab_type": "code",
        "id": "21_lfekeKVlc",
        "colab": {}
      },
      "source": [
        "files.download(\"news_binary_ngrams_results_ada.pkl\")"
      ],
      "execution_count": 0,
      "outputs": []
    },
    {
      "cell_type": "code",
      "metadata": {
        "colab_type": "code",
        "id": "gXQsEeeIKVlj",
        "colab": {}
      },
      "source": [
        "news_binary_ngrams_ada_results"
      ],
      "execution_count": 0,
      "outputs": []
    },
    {
      "cell_type": "markdown",
      "metadata": {
        "id": "hmFKX-WS_5i2",
        "colab_type": "text"
      },
      "source": [
        "# Random Forest"
      ]
    },
    {
      "cell_type": "code",
      "metadata": {
        "id": "UCq8A9KCAHy6",
        "colab_type": "code",
        "colab": {}
      },
      "source": [
        "rando_F=RandomForestClassifier(n_jobs=-1)\n",
        "\n",
        "\n",
        "forest_param = { #Params for gridsearch\n",
        "    'min_samples_leaf': [1, 3, 5, 10, 15, 20],\n",
        "    'min_samples_split': [2,4,6,8,10],\n",
        "    'max_features': [None, 0.2, 0.5, 0.7, 'sqrt', 'log2'],\n",
        "    'max_depth':[None, 10, 20, 40, 80, 150, 300, 500, 1000],\n",
        "    'n_estimators': [10, 50, 100, 500,1e3,1e5],\n",
        "    'bootstrap': [True, False]\n",
        "}\n",
        "\n",
        "rando_F_grid = GridSearchCV(estimator=rando_F, param_grid=forest_param, n_jobs=-1,\n",
        "                                cv=5, refit=True, verbose=2, return_train_score = True) #Tune Parameters\n"
      ],
      "execution_count": 0,
      "outputs": []
    },
    {
      "cell_type": "markdown",
      "metadata": {
        "id": "PspieOa1B7tX",
        "colab_type": "text"
      },
      "source": [
        "## Movie"
      ]
    },
    {
      "cell_type": "code",
      "metadata": {
        "id": "q_55yaX9B88x",
        "colab_type": "code",
        "outputId": "bc7796a7-dee9-42b5-a51e-639911ef7f29",
        "colab": {
          "base_uri": "https://localhost:8080/",
          "height": 378
        }
      },
      "source": [
        "movie_RandoF_results = cv_eval_save(\"movie_results_forest.pkl\", rando_F_grid, movie['movie']['X_train'], movie['movie']['y_train'],\n",
        "             movie['movie']['X_test'], movie['movie']['y_test'], movie_labels, 'binary')"
      ],
      "execution_count": 0,
      "outputs": [
        {
          "output_type": "stream",
          "text": [
            "Fitting 5 folds for each of 19440 candidates, totalling 97200 fits\n"
          ],
          "name": "stdout"
        },
        {
          "output_type": "stream",
          "text": [
            "[Parallel(n_jobs=-1)]: Using backend LokyBackend with 2 concurrent workers.\n"
          ],
          "name": "stderr"
        },
        {
          "output_type": "error",
          "ename": "KeyboardInterrupt",
          "evalue": "ignored",
          "traceback": [
            "\u001b[0;31m---------------------------------------------------------------------------\u001b[0m",
            "\u001b[0;31mKeyboardInterrupt\u001b[0m                         Traceback (most recent call last)",
            "\u001b[0;32m<ipython-input-18-85661a8dcfce>\u001b[0m in \u001b[0;36m<module>\u001b[0;34m()\u001b[0m\n\u001b[1;32m      1\u001b[0m movie_RandoF_results = cv_eval_save(\"movie_results_forest.pkl\", rando_F_grid, movie['movie']['X_train'], movie['movie']['y_train'],\n\u001b[0;32m----> 2\u001b[0;31m              movie['movie']['X_test'], movie['movie']['y_test'], movie_labels, 'binary')\n\u001b[0m",
            "\u001b[0;32m<ipython-input-5-42fae0fbc402>\u001b[0m in \u001b[0;36mcv_eval_save\u001b[0;34m(name, grid, X_train, y_train, X_test, y_test, y_labels, avg)\u001b[0m\n\u001b[1;32m      2\u001b[0m   \u001b[0;34m\"\"\" Run cross validation with a grid and find the train/val/test results. Saves and downloads pkl file. \"\"\"\u001b[0m\u001b[0;34m\u001b[0m\u001b[0;34m\u001b[0m\u001b[0m\n\u001b[1;32m      3\u001b[0m \u001b[0;34m\u001b[0m\u001b[0m\n\u001b[0;32m----> 4\u001b[0;31m   \u001b[0mgrid\u001b[0m\u001b[0;34m.\u001b[0m\u001b[0mfit\u001b[0m\u001b[0;34m(\u001b[0m\u001b[0mX_train\u001b[0m\u001b[0;34m,\u001b[0m \u001b[0my_train\u001b[0m\u001b[0;34m)\u001b[0m\u001b[0;34m\u001b[0m\u001b[0;34m\u001b[0m\u001b[0m\n\u001b[0m\u001b[1;32m      5\u001b[0m \u001b[0;34m\u001b[0m\u001b[0m\n\u001b[1;32m      6\u001b[0m \u001b[0;34m\u001b[0m\u001b[0m\n",
            "\u001b[0;32m/usr/local/lib/python3.6/dist-packages/sklearn/model_selection/_search.py\u001b[0m in \u001b[0;36mfit\u001b[0;34m(self, X, y, groups, **fit_params)\u001b[0m\n\u001b[1;32m    708\u001b[0m                 \u001b[0;32mreturn\u001b[0m \u001b[0mresults\u001b[0m\u001b[0;34m\u001b[0m\u001b[0;34m\u001b[0m\u001b[0m\n\u001b[1;32m    709\u001b[0m \u001b[0;34m\u001b[0m\u001b[0m\n\u001b[0;32m--> 710\u001b[0;31m             \u001b[0mself\u001b[0m\u001b[0;34m.\u001b[0m\u001b[0m_run_search\u001b[0m\u001b[0;34m(\u001b[0m\u001b[0mevaluate_candidates\u001b[0m\u001b[0;34m)\u001b[0m\u001b[0;34m\u001b[0m\u001b[0;34m\u001b[0m\u001b[0m\n\u001b[0m\u001b[1;32m    711\u001b[0m \u001b[0;34m\u001b[0m\u001b[0m\n\u001b[1;32m    712\u001b[0m         \u001b[0;31m# For multi-metric evaluation, store the best_index_, best_params_ and\u001b[0m\u001b[0;34m\u001b[0m\u001b[0;34m\u001b[0m\u001b[0;34m\u001b[0m\u001b[0m\n",
            "\u001b[0;32m/usr/local/lib/python3.6/dist-packages/sklearn/model_selection/_search.py\u001b[0m in \u001b[0;36m_run_search\u001b[0;34m(self, evaluate_candidates)\u001b[0m\n\u001b[1;32m   1149\u001b[0m     \u001b[0;32mdef\u001b[0m \u001b[0m_run_search\u001b[0m\u001b[0;34m(\u001b[0m\u001b[0mself\u001b[0m\u001b[0;34m,\u001b[0m \u001b[0mevaluate_candidates\u001b[0m\u001b[0;34m)\u001b[0m\u001b[0;34m:\u001b[0m\u001b[0;34m\u001b[0m\u001b[0;34m\u001b[0m\u001b[0m\n\u001b[1;32m   1150\u001b[0m         \u001b[0;34m\"\"\"Search all candidates in param_grid\"\"\"\u001b[0m\u001b[0;34m\u001b[0m\u001b[0;34m\u001b[0m\u001b[0m\n\u001b[0;32m-> 1151\u001b[0;31m         \u001b[0mevaluate_candidates\u001b[0m\u001b[0;34m(\u001b[0m\u001b[0mParameterGrid\u001b[0m\u001b[0;34m(\u001b[0m\u001b[0mself\u001b[0m\u001b[0;34m.\u001b[0m\u001b[0mparam_grid\u001b[0m\u001b[0;34m)\u001b[0m\u001b[0;34m)\u001b[0m\u001b[0;34m\u001b[0m\u001b[0;34m\u001b[0m\u001b[0m\n\u001b[0m\u001b[1;32m   1152\u001b[0m \u001b[0;34m\u001b[0m\u001b[0m\n\u001b[1;32m   1153\u001b[0m \u001b[0;34m\u001b[0m\u001b[0m\n",
            "\u001b[0;32m/usr/local/lib/python3.6/dist-packages/sklearn/model_selection/_search.py\u001b[0m in \u001b[0;36mevaluate_candidates\u001b[0;34m(candidate_params)\u001b[0m\n\u001b[1;32m    687\u001b[0m                                \u001b[0;32mfor\u001b[0m \u001b[0mparameters\u001b[0m\u001b[0;34m,\u001b[0m \u001b[0;34m(\u001b[0m\u001b[0mtrain\u001b[0m\u001b[0;34m,\u001b[0m \u001b[0mtest\u001b[0m\u001b[0;34m)\u001b[0m\u001b[0;34m\u001b[0m\u001b[0;34m\u001b[0m\u001b[0m\n\u001b[1;32m    688\u001b[0m                                in product(candidate_params,\n\u001b[0;32m--> 689\u001b[0;31m                                           cv.split(X, y, groups)))\n\u001b[0m\u001b[1;32m    690\u001b[0m \u001b[0;34m\u001b[0m\u001b[0m\n\u001b[1;32m    691\u001b[0m                 \u001b[0;32mif\u001b[0m \u001b[0mlen\u001b[0m\u001b[0;34m(\u001b[0m\u001b[0mout\u001b[0m\u001b[0;34m)\u001b[0m \u001b[0;34m<\u001b[0m \u001b[0;36m1\u001b[0m\u001b[0;34m:\u001b[0m\u001b[0;34m\u001b[0m\u001b[0;34m\u001b[0m\u001b[0m\n",
            "\u001b[0;32m/usr/local/lib/python3.6/dist-packages/joblib/parallel.py\u001b[0m in \u001b[0;36m__call__\u001b[0;34m(self, iterable)\u001b[0m\n\u001b[1;32m   1015\u001b[0m \u001b[0;34m\u001b[0m\u001b[0m\n\u001b[1;32m   1016\u001b[0m             \u001b[0;32mwith\u001b[0m \u001b[0mself\u001b[0m\u001b[0;34m.\u001b[0m\u001b[0m_backend\u001b[0m\u001b[0;34m.\u001b[0m\u001b[0mretrieval_context\u001b[0m\u001b[0;34m(\u001b[0m\u001b[0;34m)\u001b[0m\u001b[0;34m:\u001b[0m\u001b[0;34m\u001b[0m\u001b[0;34m\u001b[0m\u001b[0m\n\u001b[0;32m-> 1017\u001b[0;31m                 \u001b[0mself\u001b[0m\u001b[0;34m.\u001b[0m\u001b[0mretrieve\u001b[0m\u001b[0;34m(\u001b[0m\u001b[0;34m)\u001b[0m\u001b[0;34m\u001b[0m\u001b[0;34m\u001b[0m\u001b[0m\n\u001b[0m\u001b[1;32m   1018\u001b[0m             \u001b[0;31m# Make sure that we get a last message telling us we are done\u001b[0m\u001b[0;34m\u001b[0m\u001b[0;34m\u001b[0m\u001b[0;34m\u001b[0m\u001b[0m\n\u001b[1;32m   1019\u001b[0m             \u001b[0melapsed_time\u001b[0m \u001b[0;34m=\u001b[0m \u001b[0mtime\u001b[0m\u001b[0;34m.\u001b[0m\u001b[0mtime\u001b[0m\u001b[0;34m(\u001b[0m\u001b[0;34m)\u001b[0m \u001b[0;34m-\u001b[0m \u001b[0mself\u001b[0m\u001b[0;34m.\u001b[0m\u001b[0m_start_time\u001b[0m\u001b[0;34m\u001b[0m\u001b[0;34m\u001b[0m\u001b[0m\n",
            "\u001b[0;32m/usr/local/lib/python3.6/dist-packages/joblib/parallel.py\u001b[0m in \u001b[0;36mretrieve\u001b[0;34m(self)\u001b[0m\n\u001b[1;32m    907\u001b[0m             \u001b[0;32mtry\u001b[0m\u001b[0;34m:\u001b[0m\u001b[0;34m\u001b[0m\u001b[0;34m\u001b[0m\u001b[0m\n\u001b[1;32m    908\u001b[0m                 \u001b[0;32mif\u001b[0m \u001b[0mgetattr\u001b[0m\u001b[0;34m(\u001b[0m\u001b[0mself\u001b[0m\u001b[0;34m.\u001b[0m\u001b[0m_backend\u001b[0m\u001b[0;34m,\u001b[0m \u001b[0;34m'supports_timeout'\u001b[0m\u001b[0;34m,\u001b[0m \u001b[0;32mFalse\u001b[0m\u001b[0;34m)\u001b[0m\u001b[0;34m:\u001b[0m\u001b[0;34m\u001b[0m\u001b[0;34m\u001b[0m\u001b[0m\n\u001b[0;32m--> 909\u001b[0;31m                     \u001b[0mself\u001b[0m\u001b[0;34m.\u001b[0m\u001b[0m_output\u001b[0m\u001b[0;34m.\u001b[0m\u001b[0mextend\u001b[0m\u001b[0;34m(\u001b[0m\u001b[0mjob\u001b[0m\u001b[0;34m.\u001b[0m\u001b[0mget\u001b[0m\u001b[0;34m(\u001b[0m\u001b[0mtimeout\u001b[0m\u001b[0;34m=\u001b[0m\u001b[0mself\u001b[0m\u001b[0;34m.\u001b[0m\u001b[0mtimeout\u001b[0m\u001b[0;34m)\u001b[0m\u001b[0;34m)\u001b[0m\u001b[0;34m\u001b[0m\u001b[0;34m\u001b[0m\u001b[0m\n\u001b[0m\u001b[1;32m    910\u001b[0m                 \u001b[0;32melse\u001b[0m\u001b[0;34m:\u001b[0m\u001b[0;34m\u001b[0m\u001b[0;34m\u001b[0m\u001b[0m\n\u001b[1;32m    911\u001b[0m                     \u001b[0mself\u001b[0m\u001b[0;34m.\u001b[0m\u001b[0m_output\u001b[0m\u001b[0;34m.\u001b[0m\u001b[0mextend\u001b[0m\u001b[0;34m(\u001b[0m\u001b[0mjob\u001b[0m\u001b[0;34m.\u001b[0m\u001b[0mget\u001b[0m\u001b[0;34m(\u001b[0m\u001b[0;34m)\u001b[0m\u001b[0;34m)\u001b[0m\u001b[0;34m\u001b[0m\u001b[0;34m\u001b[0m\u001b[0m\n",
            "\u001b[0;32m/usr/local/lib/python3.6/dist-packages/joblib/_parallel_backends.py\u001b[0m in \u001b[0;36mwrap_future_result\u001b[0;34m(future, timeout)\u001b[0m\n\u001b[1;32m    560\u001b[0m         AsyncResults.get from multiprocessing.\"\"\"\n\u001b[1;32m    561\u001b[0m         \u001b[0;32mtry\u001b[0m\u001b[0;34m:\u001b[0m\u001b[0;34m\u001b[0m\u001b[0;34m\u001b[0m\u001b[0m\n\u001b[0;32m--> 562\u001b[0;31m             \u001b[0;32mreturn\u001b[0m \u001b[0mfuture\u001b[0m\u001b[0;34m.\u001b[0m\u001b[0mresult\u001b[0m\u001b[0;34m(\u001b[0m\u001b[0mtimeout\u001b[0m\u001b[0;34m=\u001b[0m\u001b[0mtimeout\u001b[0m\u001b[0;34m)\u001b[0m\u001b[0;34m\u001b[0m\u001b[0;34m\u001b[0m\u001b[0m\n\u001b[0m\u001b[1;32m    563\u001b[0m         \u001b[0;32mexcept\u001b[0m \u001b[0mLokyTimeoutError\u001b[0m\u001b[0;34m:\u001b[0m\u001b[0;34m\u001b[0m\u001b[0;34m\u001b[0m\u001b[0m\n\u001b[1;32m    564\u001b[0m             \u001b[0;32mraise\u001b[0m \u001b[0mTimeoutError\u001b[0m\u001b[0;34m(\u001b[0m\u001b[0;34m)\u001b[0m\u001b[0;34m\u001b[0m\u001b[0;34m\u001b[0m\u001b[0m\n",
            "\u001b[0;32m/usr/lib/python3.6/concurrent/futures/_base.py\u001b[0m in \u001b[0;36mresult\u001b[0;34m(self, timeout)\u001b[0m\n\u001b[1;32m    425\u001b[0m                 \u001b[0;32mreturn\u001b[0m \u001b[0mself\u001b[0m\u001b[0;34m.\u001b[0m\u001b[0m__get_result\u001b[0m\u001b[0;34m(\u001b[0m\u001b[0;34m)\u001b[0m\u001b[0;34m\u001b[0m\u001b[0;34m\u001b[0m\u001b[0m\n\u001b[1;32m    426\u001b[0m \u001b[0;34m\u001b[0m\u001b[0m\n\u001b[0;32m--> 427\u001b[0;31m             \u001b[0mself\u001b[0m\u001b[0;34m.\u001b[0m\u001b[0m_condition\u001b[0m\u001b[0;34m.\u001b[0m\u001b[0mwait\u001b[0m\u001b[0;34m(\u001b[0m\u001b[0mtimeout\u001b[0m\u001b[0;34m)\u001b[0m\u001b[0;34m\u001b[0m\u001b[0;34m\u001b[0m\u001b[0m\n\u001b[0m\u001b[1;32m    428\u001b[0m \u001b[0;34m\u001b[0m\u001b[0m\n\u001b[1;32m    429\u001b[0m             \u001b[0;32mif\u001b[0m \u001b[0mself\u001b[0m\u001b[0;34m.\u001b[0m\u001b[0m_state\u001b[0m \u001b[0;32min\u001b[0m \u001b[0;34m[\u001b[0m\u001b[0mCANCELLED\u001b[0m\u001b[0;34m,\u001b[0m \u001b[0mCANCELLED_AND_NOTIFIED\u001b[0m\u001b[0;34m]\u001b[0m\u001b[0;34m:\u001b[0m\u001b[0;34m\u001b[0m\u001b[0;34m\u001b[0m\u001b[0m\n",
            "\u001b[0;32m/usr/lib/python3.6/threading.py\u001b[0m in \u001b[0;36mwait\u001b[0;34m(self, timeout)\u001b[0m\n\u001b[1;32m    293\u001b[0m         \u001b[0;32mtry\u001b[0m\u001b[0;34m:\u001b[0m    \u001b[0;31m# restore state no matter what (e.g., KeyboardInterrupt)\u001b[0m\u001b[0;34m\u001b[0m\u001b[0;34m\u001b[0m\u001b[0m\n\u001b[1;32m    294\u001b[0m             \u001b[0;32mif\u001b[0m \u001b[0mtimeout\u001b[0m \u001b[0;32mis\u001b[0m \u001b[0;32mNone\u001b[0m\u001b[0;34m:\u001b[0m\u001b[0;34m\u001b[0m\u001b[0;34m\u001b[0m\u001b[0m\n\u001b[0;32m--> 295\u001b[0;31m                 \u001b[0mwaiter\u001b[0m\u001b[0;34m.\u001b[0m\u001b[0macquire\u001b[0m\u001b[0;34m(\u001b[0m\u001b[0;34m)\u001b[0m\u001b[0;34m\u001b[0m\u001b[0;34m\u001b[0m\u001b[0m\n\u001b[0m\u001b[1;32m    296\u001b[0m                 \u001b[0mgotit\u001b[0m \u001b[0;34m=\u001b[0m \u001b[0;32mTrue\u001b[0m\u001b[0;34m\u001b[0m\u001b[0;34m\u001b[0m\u001b[0m\n\u001b[1;32m    297\u001b[0m             \u001b[0;32melse\u001b[0m\u001b[0;34m:\u001b[0m\u001b[0;34m\u001b[0m\u001b[0;34m\u001b[0m\u001b[0m\n",
            "\u001b[0;31mKeyboardInterrupt\u001b[0m: "
          ]
        }
      ]
    },
    {
      "cell_type": "code",
      "metadata": {
        "id": "OPRHGmUVE72y",
        "colab_type": "code",
        "colab": {}
      },
      "source": [
        "files.download(\"movie_results_forest.pkl\")"
      ],
      "execution_count": 0,
      "outputs": []
    },
    {
      "cell_type": "code",
      "metadata": {
        "id": "aqYTaMMBCLyZ",
        "colab_type": "code",
        "colab": {}
      },
      "source": [
        "movie_RandoF_results"
      ],
      "execution_count": 0,
      "outputs": []
    },
    {
      "cell_type": "code",
      "metadata": {
        "colab_type": "code",
        "id": "nXxTHkW2KmKA",
        "colab": {}
      },
      "source": [
        "movie_binary_RandoF_results = cv_eval_save(\"movie_binary_results_forest.pkl\", rando_F_grid, movie['movie_binary']['X_train'], movie['movie_binary']['y_train'],\n",
        "             movie['movie_binary']['X_test'], movie['movie_binary']['y_test'], movie_labels, 'binary')"
      ],
      "execution_count": 0,
      "outputs": []
    },
    {
      "cell_type": "code",
      "metadata": {
        "colab_type": "code",
        "id": "_w1s8yLDKmKc",
        "colab": {}
      },
      "source": [
        "files.download(\"movie_binary_results_forest.pkl\")"
      ],
      "execution_count": 0,
      "outputs": []
    },
    {
      "cell_type": "code",
      "metadata": {
        "colab_type": "code",
        "id": "Qr6XmAotKmKp",
        "colab": {}
      },
      "source": [
        "movie_binary_RandoF_result"
      ],
      "execution_count": 0,
      "outputs": []
    },
    {
      "cell_type": "code",
      "metadata": {
        "colab_type": "code",
        "id": "fXA_TDrfK1Sz",
        "colab": {}
      },
      "source": [
        "movie_ngrams_RandoF_results = cv_eval_save(\"movie_ngrams_results_forest.pkl\", rando_F_grid, movie['movie_ngrams']['X_train'], movie['movie_ngrams']['y_train'],\n",
        "             movie['movie_ngrams']['X_test'], movie['movie_ngrams']['y_test'], movie_labels, 'binary')"
      ],
      "execution_count": 0,
      "outputs": []
    },
    {
      "cell_type": "code",
      "metadata": {
        "colab_type": "code",
        "id": "bK_1XBUkK1TC",
        "colab": {}
      },
      "source": [
        "files.download(\"movie_ngrams_results_forest.pkl\")"
      ],
      "execution_count": 0,
      "outputs": []
    },
    {
      "cell_type": "code",
      "metadata": {
        "colab_type": "code",
        "id": "NS1LogulK1TN",
        "colab": {}
      },
      "source": [
        "movie_ngrams_RandoF_result"
      ],
      "execution_count": 0,
      "outputs": []
    },
    {
      "cell_type": "code",
      "metadata": {
        "colab_type": "code",
        "id": "C1oT7a-WLALN",
        "colab": {}
      },
      "source": [
        "movie_binary_ngrams_RandoF_results = cv_eval_save(\"movie_binary_ngrams_results_forest.pkl\", rando_F_grid, movie['movie_binary_ngrams']['X_train'], movie['movie_binary_ngrams']['y_train'],\n",
        "             movie['movie_binary_ngrams']['X_test'], movie['movie_binary_ngrams']['y_test'], movie_labels, 'binary')"
      ],
      "execution_count": 0,
      "outputs": []
    },
    {
      "cell_type": "code",
      "metadata": {
        "colab_type": "code",
        "id": "rJbR8Mw0LALY",
        "colab": {}
      },
      "source": [
        "files.download(\"movie_binary_ngrams_results_forest.pkl\")"
      ],
      "execution_count": 0,
      "outputs": []
    },
    {
      "cell_type": "code",
      "metadata": {
        "colab_type": "code",
        "id": "JapxJznyLALe",
        "colab": {}
      },
      "source": [
        "movie_binary_ngrams_RandoF_result"
      ],
      "execution_count": 0,
      "outputs": []
    },
    {
      "cell_type": "markdown",
      "metadata": {
        "id": "gXCTjBa4B3AB",
        "colab_type": "text"
      },
      "source": [
        "## News"
      ]
    },
    {
      "cell_type": "code",
      "metadata": {
        "id": "W8BR_Nt4BwpP",
        "colab_type": "code",
        "colab": {}
      },
      "source": [
        "news_RandoF_results = cv_eval_save(\"news_results_forest.pkl\", rando_F_grid, news['news']['X_train'], news['news']['y_train'],\n",
        "             news['news']['X_test'], news['news']['y_test'], news_labels, 'weighted')"
      ],
      "execution_count": 0,
      "outputs": []
    },
    {
      "cell_type": "code",
      "metadata": {
        "id": "fDS5ditvE05w",
        "colab_type": "code",
        "colab": {}
      },
      "source": [
        "files.download(\"news_results_forest.pkl\")"
      ],
      "execution_count": 0,
      "outputs": []
    },
    {
      "cell_type": "code",
      "metadata": {
        "id": "CHgn0Kf5CS5M",
        "colab_type": "code",
        "colab": {}
      },
      "source": [
        "news_RandoF_results"
      ],
      "execution_count": 0,
      "outputs": []
    },
    {
      "cell_type": "code",
      "metadata": {
        "colab_type": "code",
        "id": "vrllRvNGLKdE",
        "colab": {}
      },
      "source": [
        "news_binary_RandoF_results = cv_eval_save(\"news_binary_results_forest.pkl\", rando_F_grid, news['news_binary']['X_train'], news['news_binary']['y_train'],\n",
        "             news['news_binary']['X_test'], news['news_binary']['y_test'], news_labels, 'weighted')"
      ],
      "execution_count": 0,
      "outputs": []
    },
    {
      "cell_type": "code",
      "metadata": {
        "colab_type": "code",
        "id": "ww12qSBoLKdV",
        "colab": {}
      },
      "source": [
        "files.download(\"news_binary_results_forest.pkl\")"
      ],
      "execution_count": 0,
      "outputs": []
    },
    {
      "cell_type": "code",
      "metadata": {
        "colab_type": "code",
        "id": "fSjtnZ33LKdd",
        "colab": {}
      },
      "source": [
        "news_binary_RandoF_results"
      ],
      "execution_count": 0,
      "outputs": []
    },
    {
      "cell_type": "code",
      "metadata": {
        "colab_type": "code",
        "id": "n0sPWHU-LRXW",
        "colab": {}
      },
      "source": [
        "news_ngrams_RandoF_results = cv_eval_save(\"news_ngrams_results_forest.pkl\", rando_F_grid, news['news_ngrams']['X_train'], news['news_ngrams']['y_train'],\n",
        "             news['news_ngrams']['X_test'], news['news_ngrams']['y_test'], news_labels, 'weighted')"
      ],
      "execution_count": 0,
      "outputs": []
    },
    {
      "cell_type": "code",
      "metadata": {
        "colab_type": "code",
        "id": "sEDion8WLRXg",
        "colab": {}
      },
      "source": [
        "files.download(\"news_ngrams_results_forest.pkl\")"
      ],
      "execution_count": 0,
      "outputs": []
    },
    {
      "cell_type": "code",
      "metadata": {
        "colab_type": "code",
        "id": "f27Oob7_LRXo",
        "colab": {}
      },
      "source": [
        "news_ngrams_RandoF_results"
      ],
      "execution_count": 0,
      "outputs": []
    },
    {
      "cell_type": "code",
      "metadata": {
        "colab_type": "code",
        "id": "ZQrIpkvvLbwK",
        "colab": {}
      },
      "source": [
        "news_binary_ngrams_RandoF_results = cv_eval_save(\"news_binary_ngrams_results_forest.pkl\", rando_F_grid, news['news_binary_ngrams']['X_train'], news['news_binary_ngrams']['y_train'],\n",
        "             news['news_binary_ngrams']['X_test'], news['news_binary_ngrams']['y_test'], news_labels, 'weighted')"
      ],
      "execution_count": 0,
      "outputs": []
    },
    {
      "cell_type": "code",
      "metadata": {
        "colab_type": "code",
        "id": "EUMnHy3PLbwg",
        "colab": {}
      },
      "source": [
        "files.download(\"news_binary_ngrams_results_forest.pkl\")"
      ],
      "execution_count": 0,
      "outputs": []
    },
    {
      "cell_type": "code",
      "metadata": {
        "colab_type": "code",
        "id": "EPgidLZ8Lbwq",
        "colab": {}
      },
      "source": [
        "news_binary_ngrams_RandoF_results"
      ],
      "execution_count": 0,
      "outputs": []
    },
    {
      "cell_type": "markdown",
      "metadata": {
        "id": "eKBO7Rbz1DXu",
        "colab_type": "text"
      },
      "source": [
        "# Naive Bayes"
      ]
    },
    {
      "cell_type": "code",
      "metadata": {
        "id": "ZQfnpD2Z1Ejg",
        "colab_type": "code",
        "colab": {}
      },
      "source": [
        "from sklearn.naive_bayes import MultinomialNB\n",
        "nb = MultinomialNB() \n",
        "\n",
        "nb_params = { #hyperparameters over which to optimize\n",
        "    'alpha': [0, 0.001, 0.01, 0.1, 1, 10, 100],\n",
        "    'fit_prior': [True, False]\n",
        "}\n",
        "\n",
        "nb_grid = GridSearchCV(estimator=nb, param_grid=nb_params, n_jobs=-1,\n",
        "                                cv=5, refit=True, verbose=2, return_train_score = True)"
      ],
      "execution_count": 0,
      "outputs": []
    }
  ]
}